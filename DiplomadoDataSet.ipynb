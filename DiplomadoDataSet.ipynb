{
 "cells": [
  {
   "cell_type": "code",
   "execution_count": 4,
   "id": "exotic-message",
   "metadata": {},
   "outputs": [],
   "source": [
    "import numpy as np\n",
    "import pandas as pd\n",
    "import seaborn as sns\n",
    "import matplotlib.pyplot as plt"
   ]
  },
  {
   "cell_type": "code",
   "execution_count": 8,
   "id": "israeli-mouth",
   "metadata": {},
   "outputs": [],
   "source": [
    "df = pd.read_spss(\"./dataset/EAS_2019.sav\")"
   ]
  },
  {
   "cell_type": "code",
   "execution_count": 11,
   "id": "discrete-departure",
   "metadata": {},
   "outputs": [
    {
     "data": {
      "text/html": [
       "<div>\n",
       "<style scoped>\n",
       "    .dataframe tbody tr th:only-of-type {\n",
       "        vertical-align: middle;\n",
       "    }\n",
       "\n",
       "    .dataframe tbody tr th {\n",
       "        vertical-align: top;\n",
       "    }\n",
       "\n",
       "    .dataframe thead th {\n",
       "        text-align: right;\n",
       "    }\n",
       "</style>\n",
       "<table border=\"1\" class=\"dataframe\">\n",
       "  <thead>\n",
       "    <tr style=\"text-align: right;\">\n",
       "      <th></th>\n",
       "      <th>idnoremp</th>\n",
       "      <th>Seccion18</th>\n",
       "      <th>Division</th>\n",
       "      <th>periodo</th>\n",
       "      <th>intio</th>\n",
       "      <th>pottcag</th>\n",
       "      <th>gppgpa</th>\n",
       "      <th>ocgtot</th>\n",
       "      <th>CONINTER</th>\n",
       "      <th>OTROSG</th>\n",
       "      <th>...</th>\n",
       "      <th>gppdocen</th>\n",
       "      <th>gppgpaed1</th>\n",
       "      <th>gppmoni</th>\n",
       "      <th>gppgpned1</th>\n",
       "      <th>gppgpned2</th>\n",
       "      <th>gppgpned3</th>\n",
       "      <th>gpptpoted1</th>\n",
       "      <th>gpptpoted2</th>\n",
       "      <th>gpptpoted3</th>\n",
       "      <th>opcomex</th>\n",
       "    </tr>\n",
       "  </thead>\n",
       "  <tbody>\n",
       "    <tr>\n",
       "      <th>0</th>\n",
       "      <td>10001.0</td>\n",
       "      <td>I1</td>\n",
       "      <td>55.0</td>\n",
       "      <td>2019.0</td>\n",
       "      <td>2690535.0</td>\n",
       "      <td>0.0</td>\n",
       "      <td>29546.0</td>\n",
       "      <td>1108203.0</td>\n",
       "      <td>1054626.0</td>\n",
       "      <td>68900.0</td>\n",
       "      <td>...</td>\n",
       "      <td>NaN</td>\n",
       "      <td>NaN</td>\n",
       "      <td>NaN</td>\n",
       "      <td>NaN</td>\n",
       "      <td>NaN</td>\n",
       "      <td>NaN</td>\n",
       "      <td>NaN</td>\n",
       "      <td>NaN</td>\n",
       "      <td>NaN</td>\n",
       "      <td>4.0</td>\n",
       "    </tr>\n",
       "    <tr>\n",
       "      <th>1</th>\n",
       "      <td>10002.0</td>\n",
       "      <td>I1</td>\n",
       "      <td>55.0</td>\n",
       "      <td>2019.0</td>\n",
       "      <td>5198956.0</td>\n",
       "      <td>0.0</td>\n",
       "      <td>19692.0</td>\n",
       "      <td>2774045.0</td>\n",
       "      <td>2643172.0</td>\n",
       "      <td>8910.0</td>\n",
       "      <td>...</td>\n",
       "      <td>NaN</td>\n",
       "      <td>NaN</td>\n",
       "      <td>NaN</td>\n",
       "      <td>NaN</td>\n",
       "      <td>NaN</td>\n",
       "      <td>NaN</td>\n",
       "      <td>NaN</td>\n",
       "      <td>NaN</td>\n",
       "      <td>NaN</td>\n",
       "      <td>4.0</td>\n",
       "    </tr>\n",
       "    <tr>\n",
       "      <th>2</th>\n",
       "      <td>10003.0</td>\n",
       "      <td>I1</td>\n",
       "      <td>55.0</td>\n",
       "      <td>2019.0</td>\n",
       "      <td>14153289.0</td>\n",
       "      <td>117.0</td>\n",
       "      <td>39744.0</td>\n",
       "      <td>10230734.0</td>\n",
       "      <td>9907702.0</td>\n",
       "      <td>165935.0</td>\n",
       "      <td>...</td>\n",
       "      <td>NaN</td>\n",
       "      <td>NaN</td>\n",
       "      <td>NaN</td>\n",
       "      <td>NaN</td>\n",
       "      <td>NaN</td>\n",
       "      <td>NaN</td>\n",
       "      <td>NaN</td>\n",
       "      <td>NaN</td>\n",
       "      <td>NaN</td>\n",
       "      <td>4.0</td>\n",
       "    </tr>\n",
       "    <tr>\n",
       "      <th>3</th>\n",
       "      <td>10004.0</td>\n",
       "      <td>I1</td>\n",
       "      <td>55.0</td>\n",
       "      <td>2019.0</td>\n",
       "      <td>10684133.0</td>\n",
       "      <td>0.0</td>\n",
       "      <td>20703.0</td>\n",
       "      <td>7825096.0</td>\n",
       "      <td>7664319.0</td>\n",
       "      <td>0.0</td>\n",
       "      <td>...</td>\n",
       "      <td>NaN</td>\n",
       "      <td>NaN</td>\n",
       "      <td>NaN</td>\n",
       "      <td>NaN</td>\n",
       "      <td>NaN</td>\n",
       "      <td>NaN</td>\n",
       "      <td>NaN</td>\n",
       "      <td>NaN</td>\n",
       "      <td>NaN</td>\n",
       "      <td>2.0</td>\n",
       "    </tr>\n",
       "    <tr>\n",
       "      <th>4</th>\n",
       "      <td>10005.0</td>\n",
       "      <td>I2</td>\n",
       "      <td>56.0</td>\n",
       "      <td>2019.0</td>\n",
       "      <td>26319862.0</td>\n",
       "      <td>177.0</td>\n",
       "      <td>33787.0</td>\n",
       "      <td>23404650.0</td>\n",
       "      <td>22715080.0</td>\n",
       "      <td>388456.0</td>\n",
       "      <td>...</td>\n",
       "      <td>NaN</td>\n",
       "      <td>NaN</td>\n",
       "      <td>NaN</td>\n",
       "      <td>NaN</td>\n",
       "      <td>NaN</td>\n",
       "      <td>NaN</td>\n",
       "      <td>NaN</td>\n",
       "      <td>NaN</td>\n",
       "      <td>NaN</td>\n",
       "      <td>4.0</td>\n",
       "    </tr>\n",
       "  </tbody>\n",
       "</table>\n",
       "<p>5 rows × 161 columns</p>\n",
       "</div>"
      ],
      "text/plain": [
       "   idnoremp Seccion18  Division  periodo       intio  pottcag   gppgpa  \\\n",
       "0   10001.0        I1      55.0   2019.0   2690535.0      0.0  29546.0   \n",
       "1   10002.0        I1      55.0   2019.0   5198956.0      0.0  19692.0   \n",
       "2   10003.0        I1      55.0   2019.0  14153289.0    117.0  39744.0   \n",
       "3   10004.0        I1      55.0   2019.0  10684133.0      0.0  20703.0   \n",
       "4   10005.0        I2      56.0   2019.0  26319862.0    177.0  33787.0   \n",
       "\n",
       "       ocgtot    CONINTER    OTROSG  ...  gppdocen  gppgpaed1  gppmoni  \\\n",
       "0   1108203.0   1054626.0   68900.0  ...       NaN        NaN      NaN   \n",
       "1   2774045.0   2643172.0    8910.0  ...       NaN        NaN      NaN   \n",
       "2  10230734.0   9907702.0  165935.0  ...       NaN        NaN      NaN   \n",
       "3   7825096.0   7664319.0       0.0  ...       NaN        NaN      NaN   \n",
       "4  23404650.0  22715080.0  388456.0  ...       NaN        NaN      NaN   \n",
       "\n",
       "   gppgpned1  gppgpned2  gppgpned3  gpptpoted1  gpptpoted2  gpptpoted3  \\\n",
       "0        NaN        NaN        NaN         NaN         NaN         NaN   \n",
       "1        NaN        NaN        NaN         NaN         NaN         NaN   \n",
       "2        NaN        NaN        NaN         NaN         NaN         NaN   \n",
       "3        NaN        NaN        NaN         NaN         NaN         NaN   \n",
       "4        NaN        NaN        NaN         NaN         NaN         NaN   \n",
       "\n",
       "   opcomex  \n",
       "0      4.0  \n",
       "1      4.0  \n",
       "2      4.0  \n",
       "3      2.0  \n",
       "4      4.0  \n",
       "\n",
       "[5 rows x 161 columns]"
      ]
     },
     "execution_count": 11,
     "metadata": {},
     "output_type": "execute_result"
    }
   ],
   "source": [
    "df.head()"
   ]
  },
  {
   "cell_type": "code",
   "execution_count": 12,
   "id": "medium-tolerance",
   "metadata": {},
   "outputs": [
    {
     "data": {
      "text/plain": [
       "idnoremp         0\n",
       "Seccion18        0\n",
       "Division         0\n",
       "periodo          0\n",
       "intio          145\n",
       "              ... \n",
       "gppgpned3     6233\n",
       "gpptpoted1    6233\n",
       "gpptpoted2    6233\n",
       "gpptpoted3    6233\n",
       "opcomex          0\n",
       "Length: 161, dtype: int64"
      ]
     },
     "execution_count": 12,
     "metadata": {},
     "output_type": "execute_result"
    }
   ],
   "source": [
    "# Checking the missing values\n",
    "df.isnull().sum()\n",
    "\n",
    "cols = ['ID', 'Day', 'Age', 'Response', 'Gender']\n",
    "df = pd.read_spss('./SimData/survey_1.sav', usecols=cols)\n",
    "df.head()"
   ]
  },
  {
   "cell_type": "code",
   "execution_count": 13,
   "id": "established-blade",
   "metadata": {},
   "outputs": [
    {
     "data": {
      "image/png": "[encoded data removed]",
      "text/plain": [
       "<Figure size 540x540 with 12 Axes>"
      ]
     },
     "metadata": {
      "needs_background": "light"
     },
     "output_type": "display_data"
    }
   ],
   "source": [
    "sns.pairplot(data = df, vars=['intio','gppgpa','ocgtot'])\n",
    "plt.show()"
   ]
  },
  {
   "cell_type": "code",
   "execution_count": null,
   "id": "suspended-license",
   "metadata": {},
   "outputs": [],
   "source": [
    "# Drop the customer id as it is of no use.\n",
    "data.drop('customerid', axis = 1, inplace = True)\n",
    "\n",
    "#Extract job  & Education in newly from \"jobedu\" column.\n",
    "data['job']= data[\"jobedu\"].apply(lambda x: x.split(\",\")[0])\n",
    "data['education']= data[\"jobedu\"].apply(lambda x: x.split(\",\")[1])\n",
    "\n",
    "# Drop the \"jobedu\" column from the dataframe.\n",
    "data.drop('jobedu', axis = 1, inplace = True)\n",
    "\n",
    "# Printing the Dataset\n",
    "data\n"
   ]
  },
  {
   "cell_type": "markdown",
   "id": "hearing-victor",
   "metadata": {},
   "source": [
    "Missing Values\n",
    "If there are missing values in the Dataset before doing any statistical analysis, we need to handle those missing values.\n",
    "There are mainly three types of missing values.\n",
    "MCAR(Missing completely at random): These values do not depend on any other features.\n",
    "MAR(Missing at random): These values may be dependent on some other features.\n",
    "MNAR(Missing not at random): These missing values have some reason for why they are missing.\n",
    "Let’s see which columns have missing values in the dataset."
   ]
  },
  {
   "cell_type": "code",
   "execution_count": null,
   "id": "necessary-apparel",
   "metadata": {},
   "outputs": [],
   "source": [
    "# Checking the missing values\n",
    "data.isnull().sum()"
   ]
  },
  {
   "cell_type": "code",
   "execution_count": null,
   "id": "comprehensive-evolution",
   "metadata": {},
   "outputs": [],
   "source": [
    "# Dropping the records with age missing in data dataframe.\n",
    "data = data[~data.age.isnull()].copy()\n",
    "\n",
    "# Checking the missing values in the dataset.\n",
    "data.isnull().sum()"
   ]
  },
  {
   "cell_type": "code",
   "execution_count": null,
   "id": "beautiful-vietnamese",
   "metadata": {},
   "outputs": [],
   "source": [
    "# Find the mode of month in data\n",
    "month_mode = data.month.mode()[0]\n",
    "\n",
    "# Fill the missing values with mode value of month in data.\n",
    "data.month.fillna(month_mode, inplace = True)\n",
    "\n",
    "# Let's see the null values in the month column.\n",
    "data.month.isnull().sum()"
   ]
  },
  {
   "cell_type": "code",
   "execution_count": null,
   "id": "smoking-istanbul",
   "metadata": {},
   "outputs": [],
   "source": []
  }
 ],
 "metadata": {
  "kernelspec": {
   "display_name": "Python 3",
   "language": "python",
   "name": "python3"
  },
  "language_info": {
   "codemirror_mode": {
    "name": "ipython",
    "version": 3
   },
   "file_extension": ".py",
   "mimetype": "text/x-python",
   "name": "python",
   "nbconvert_exporter": "python",
   "pygments_lexer": "ipython3",
   "version": "3.8.5"
  }
 },
 "nbformat": 4,
 "nbformat_minor": 5
}
