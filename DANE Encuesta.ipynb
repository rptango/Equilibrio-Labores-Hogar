{
 "cells": [
  {
   "cell_type": "markdown",
   "id": "adjustable-cream",
   "metadata": {},
   "source": [
    "# Equilibrio Labores Hogar Colombia\n",
    "## - Gran Encuesta Integrada de Hogares - GEIH -\n",
    "\n",
    "Archivos :\n",
    "- Area - Otras actividades y ayudas en la semana\n",
    "\n",
    "Columnas : <br>\n",
    "P7480S3 : Realiza Oficions en su Hogar? (1= si 2=no ) <br>\n",
    "P7480S3A1 : Cuantas Horas a la Semana? <br>\n",
    "P7480S5 : Cuidar o Atender Ninos <br>\n",
    "P7480S5A1 : Cuantas Horas a la Semana? <br>\n",
    "\n",
    "- Cabecera - Características generales (Personas)\n",
    "\n",
    "Columnas : <br>\n",
    "P6020 : Sexo (1 = Hombre, 2 = Mujer) <br>\n",
    "P6040 : Edad <br>\n",
    "P3246 : Usted se considera Pobre? (1= si 2=no ) <br>\n",
    "\n",
    "\n",
    "\n",
    "#### Source Data\n",
    "2020 : http://microdatos.dane.gov.co/index.php/catalog/659/get_microdata <br>\n",
    "2019 : http://microdatos.dane.gov.co/index.php/catalog/599/get_microdata"
   ]
  },
  {
   "cell_type": "code",
   "execution_count": 1,
   "id": "appreciated-soviet",
   "metadata": {},
   "outputs": [],
   "source": [
    "import numpy as np\n",
    "import pandas as pd\n",
    "import seaborn as sns\n",
    "import matplotlib.pyplot as plt"
   ]
  },
  {
   "cell_type": "code",
   "execution_count": 2,
   "id": "tribal-eugene",
   "metadata": {},
   "outputs": [],
   "source": [
    "areacols = ['DIRECTORIO', 'SECUENCIA_P', 'ORDEN','P7480S3','P7480S3A1','P7480S5','P7480S5A1','fex_c_2011']\n",
    "df_19area = pd.read_csv(\"./dataset/2019Noviembre.csv/area - Otras actividades y ayudas en la semana.csv\",sep=';', usecols=areacols)\n",
    "df_20area = pd.read_csv(\"./dataset/2020Noviembre.csv/20Area - Otras actividades y ayudas en la semana.csv\",sep=';', usecols=areacols)\n",
    "\n",
    "cabecols = ['DIRECTORIO', 'SECUENCIA_P', 'ORDEN','P6020','P6040']\n",
    "df_19cabeceras = pd.read_csv(\"./dataset/2019Noviembre.csv/Cabecera - Características generales (Personas).csv\",sep=';', usecols=cabecols)\n",
    "df_20cabeceras = pd.read_csv(\"./dataset/2020Noviembre.csv/Cabecera - Características generales (Personas).csv\",sep=';', usecols=cabecols)\n",
    "\n",
    "key=['DIRECTORIO', 'SECUENCIA_P', 'ORDEN']"
   ]
  },
  {
   "cell_type": "code",
   "execution_count": null,
   "id": "suspended-miami",
   "metadata": {},
   "outputs": [],
   "source": []
  },
  {
   "cell_type": "code",
   "execution_count": null,
   "id": "joined-difference",
   "metadata": {},
   "outputs": [],
   "source": []
  },
  {
   "cell_type": "markdown",
   "id": "pregnant-tunisia",
   "metadata": {},
   "source": []
  },
  {
   "cell_type": "code",
   "execution_count": 3,
   "id": "bulgarian-orleans",
   "metadata": {},
   "outputs": [],
   "source": [
    "df_2019 = pd.merge(df_19area, df_19cabeceras,on=key, how='inner')\n",
    "df_2020 = pd.merge(df_20area, df_20cabeceras,on=key, how='inner')\n",
    "\n",
    "df_2019['P7480S3A1'] = df_2019['P7480S3A1'].replace(' ',0, regex=True)\n",
    "df_2019['P7480S5A1'] = df_2019['P7480S5A1'].replace(' ',0, regex=True)\n",
    "df_2019['P7480S3A1']=df_2019['P7480S3A1'].astype(float)\n",
    "df_2019['P7480S5A1']=df_2019['P7480S5A1'].astype(float)\n",
    "\n",
    "\n",
    "df_2020['fex_c_2011'] = df_2020['fex_c_2011'].replace(',' , '.', regex=True)\n",
    "df_2020['fex_c_2011']=df_2020['fex_c_2011'].astype(float)\n",
    "df_2020['P7480S3A1'] = df_2020['P7480S3A1'].replace(' ',0, regex=True)\n",
    "df_2020['P7480S5A1'] = df_2020['P7480S5A1'].replace(' ',0, regex=True)\n",
    "df_2020['P7480S3A1']=df_2020['P7480S3A1'].astype(float)\n",
    "df_2020['P7480S5A1']=df_2020['P7480S5A1'].astype(float)\n",
    " "
   ]
  },
  {
   "cell_type": "code",
   "execution_count": 4,
   "id": "federal-soviet",
   "metadata": {},
   "outputs": [],
   "source": [
    "#FUNCIONES \n",
    "def GrupoEta(dataframe_name):\n",
    "    newDF=dataframe_name.copy()\n",
    "    newDF.loc[(newDF.P6040 <= 5),  'GrupoEta'] = 'PRIMERA_INFANCIA'\n",
    "    newDF.loc[(newDF.P6040 >= 6) & (newDF.P6040 <= 11),  'GrupoEta'] = 'INFANCIA'\n",
    "    newDF.loc[(newDF.P6040 >= 12) & (newDF.P6040 <= 18),  'GrupoEta'] = 'ADOLESCENCIA'\n",
    "    newDF.loc[(newDF.P6040 >= 19) & (newDF.P6040 <= 26),  'GrupoEta'] = 'JUVENTUD'\n",
    "    newDF.loc[(newDF.P6040 >= 27) & (newDF.P6040 <= 59),  'GrupoEta'] = 'ADULTEZ'\n",
    "    newDF.loc[(newDF.P6040 >= 50),  'GrupoEta'] = 'VEJEZ'\n",
    "    dataframe_name=newDF.copy()\n",
    "    return (dataframe_name)\n",
    "\n",
    "def replaceSex(dataframe_name):\n",
    "    dataframe_name.loc[(dataframe_name.P6020 == 1),  'Sexo'] = 'Hombre'\n",
    "    dataframe_name.loc[(dataframe_name.P6020 == 2),  'Sexo'] = 'Mujer'\n",
    "    \n",
    "    return (dataframe_name)\n",
    "    \n"
   ]
  },
  {
   "cell_type": "code",
   "execution_count": 5,
   "id": "loving-wound",
   "metadata": {},
   "outputs": [],
   "source": [
    "df_2019[\"horas_aux\"] = df_2019[\"P7480S3A1\"] * df_2019[\"fex_c_2011\"]\n",
    "df_2020[\"horas_aux\"] = df_2020[\"P7480S3A1\"] * df_2020[\"fex_c_2011\"]\n",
    "\n",
    "df_2019=GrupoEta(df_2019)\n",
    "df_2020=GrupoEta(df_2020)\n",
    "\n",
    "\n",
    "df_2019=replaceSex(df_2019)\n",
    "df_2020=replaceSex(df_2020)"
   ]
  },
  {
   "cell_type": "code",
   "execution_count": 6,
   "id": "burning-accuracy",
   "metadata": {},
   "outputs": [
    {
     "data": {
      "text/html": [
       "<div>\n",
       "<style scoped>\n",
       "    .dataframe tbody tr th:only-of-type {\n",
       "        vertical-align: middle;\n",
       "    }\n",
       "\n",
       "    .dataframe tbody tr th {\n",
       "        vertical-align: top;\n",
       "    }\n",
       "\n",
       "    .dataframe thead th {\n",
       "        text-align: right;\n",
       "    }\n",
       "</style>\n",
       "<table border=\"1\" class=\"dataframe\">\n",
       "  <thead>\n",
       "    <tr style=\"text-align: right;\">\n",
       "      <th></th>\n",
       "      <th>DIRECTORIO</th>\n",
       "      <th>SECUENCIA_P</th>\n",
       "      <th>ORDEN</th>\n",
       "      <th>P7480S3</th>\n",
       "      <th>P7480S3A1</th>\n",
       "      <th>P7480S5</th>\n",
       "      <th>P7480S5A1</th>\n",
       "      <th>fex_c_2011</th>\n",
       "      <th>P6020</th>\n",
       "      <th>P6040</th>\n",
       "      <th>horas_aux</th>\n",
       "      <th>GrupoEta</th>\n",
       "      <th>Sexo</th>\n",
       "    </tr>\n",
       "  </thead>\n",
       "  <tbody>\n",
       "    <tr>\n",
       "      <th>0</th>\n",
       "      <td>5272752</td>\n",
       "      <td>1</td>\n",
       "      <td>1</td>\n",
       "      <td>1</td>\n",
       "      <td>29.0</td>\n",
       "      <td>2</td>\n",
       "      <td>0.0</td>\n",
       "      <td>497.909418</td>\n",
       "      <td>1</td>\n",
       "      <td>47</td>\n",
       "      <td>14439.373128</td>\n",
       "      <td>ADULTEZ</td>\n",
       "      <td>Hombre</td>\n",
       "    </tr>\n",
       "    <tr>\n",
       "      <th>1</th>\n",
       "      <td>5272752</td>\n",
       "      <td>1</td>\n",
       "      <td>2</td>\n",
       "      <td>1</td>\n",
       "      <td>10.0</td>\n",
       "      <td>2</td>\n",
       "      <td>0.0</td>\n",
       "      <td>497.909418</td>\n",
       "      <td>2</td>\n",
       "      <td>44</td>\n",
       "      <td>4979.094182</td>\n",
       "      <td>ADULTEZ</td>\n",
       "      <td>Mujer</td>\n",
       "    </tr>\n",
       "    <tr>\n",
       "      <th>2</th>\n",
       "      <td>5272752</td>\n",
       "      <td>1</td>\n",
       "      <td>3</td>\n",
       "      <td>1</td>\n",
       "      <td>9.0</td>\n",
       "      <td>2</td>\n",
       "      <td>0.0</td>\n",
       "      <td>497.909418</td>\n",
       "      <td>1</td>\n",
       "      <td>17</td>\n",
       "      <td>4481.184764</td>\n",
       "      <td>ADOLESCENCIA</td>\n",
       "      <td>Hombre</td>\n",
       "    </tr>\n",
       "    <tr>\n",
       "      <th>3</th>\n",
       "      <td>5272752</td>\n",
       "      <td>1</td>\n",
       "      <td>4</td>\n",
       "      <td>1</td>\n",
       "      <td>22.0</td>\n",
       "      <td>1</td>\n",
       "      <td>1.0</td>\n",
       "      <td>497.909418</td>\n",
       "      <td>1</td>\n",
       "      <td>69</td>\n",
       "      <td>10954.007200</td>\n",
       "      <td>VEJEZ</td>\n",
       "      <td>Hombre</td>\n",
       "    </tr>\n",
       "    <tr>\n",
       "      <th>4</th>\n",
       "      <td>5272753</td>\n",
       "      <td>1</td>\n",
       "      <td>1</td>\n",
       "      <td>1</td>\n",
       "      <td>28.0</td>\n",
       "      <td>1</td>\n",
       "      <td>10.0</td>\n",
       "      <td>600.637876</td>\n",
       "      <td>1</td>\n",
       "      <td>67</td>\n",
       "      <td>16817.860516</td>\n",
       "      <td>VEJEZ</td>\n",
       "      <td>Hombre</td>\n",
       "    </tr>\n",
       "  </tbody>\n",
       "</table>\n",
       "</div>"
      ],
      "text/plain": [
       "   DIRECTORIO  SECUENCIA_P  ORDEN  P7480S3  P7480S3A1  P7480S5  P7480S5A1  \\\n",
       "0     5272752            1      1        1       29.0        2        0.0   \n",
       "1     5272752            1      2        1       10.0        2        0.0   \n",
       "2     5272752            1      3        1        9.0        2        0.0   \n",
       "3     5272752            1      4        1       22.0        1        1.0   \n",
       "4     5272753            1      1        1       28.0        1       10.0   \n",
       "\n",
       "   fex_c_2011  P6020  P6040     horas_aux      GrupoEta    Sexo  \n",
       "0  497.909418      1     47  14439.373128       ADULTEZ  Hombre  \n",
       "1  497.909418      2     44   4979.094182       ADULTEZ   Mujer  \n",
       "2  497.909418      1     17   4481.184764  ADOLESCENCIA  Hombre  \n",
       "3  497.909418      1     69  10954.007200         VEJEZ  Hombre  \n",
       "4  600.637876      1     67  16817.860516         VEJEZ  Hombre  "
      ]
     },
     "execution_count": 6,
     "metadata": {},
     "output_type": "execute_result"
    }
   ],
   "source": [
    "df_2020.head()"
   ]
  },
  {
   "cell_type": "markdown",
   "id": "positive-vitamin",
   "metadata": {},
   "source": [
    "\n"
   ]
  },
  {
   "cell_type": "code",
   "execution_count": 7,
   "id": "light-missile",
   "metadata": {},
   "outputs": [
    {
     "data": {
      "text/plain": [
       "count    24576.000000\n",
       "mean        12.838623\n",
       "std         12.389862\n",
       "min          0.000000\n",
       "25%          2.000000\n",
       "50%         10.000000\n",
       "75%         21.000000\n",
       "max         98.000000\n",
       "Name: P7480S3A1, dtype: float64"
      ]
     },
     "execution_count": 7,
     "metadata": {},
     "output_type": "execute_result"
    }
   ],
   "source": [
    "#sns.pairplot(data = df_2019, vars=['P6020','P6040','P7480S3','P7480S3A1'])\n",
    "#plt.show()\n",
    "\n",
    "df_2020[\"P7480S3A1\"].describe()"
   ]
  },
  {
   "cell_type": "code",
   "execution_count": 8,
   "id": "arctic-education",
   "metadata": {},
   "outputs": [
    {
     "data": {
      "text/plain": [
       "<seaborn.axisgrid.FacetGrid at 0x1e07f7f1ac0>"
      ]
     },
     "execution_count": 8,
     "metadata": {},
     "output_type": "execute_result"
    },
    {
     "data": {
      "image/png": "[encoded data removed]",
      "text/plain": [
       "<Figure size 473.625x360 with 1 Axes>"
      ]
     },
     "metadata": {
      "needs_background": "light"
     },
     "output_type": "display_data"
    }
   ],
   "source": [
    "#Labores Hogar\n",
    "sns.catplot(x=\"Sexo\", y=\"P7480S3A1\", hue=\"GrupoEta\", kind=\"bar\", data=df_2019)"
   ]
  },
  {
   "cell_type": "code",
   "execution_count": 9,
   "id": "romantic-design",
   "metadata": {},
   "outputs": [
    {
     "name": "stdout",
     "output_type": "stream",
     "text": [
      "Sexo\n",
      "Hombre     4.459617\n",
      "Mujer     17.821571\n",
      "Name: P7480S3A1, dtype: float64\n",
      "Cuidado Infantes 2019 Sexo\n",
      "Hombre    1.481075\n",
      "Mujer     6.182926\n",
      "Name: P7480S5A1, dtype: float64\n"
     ]
    }
   ],
   "source": [
    "#Antes Pandemia\n",
    "print(df_2019.groupby('Sexo')['P7480S3A1'].mean())\n",
    "print('Cuidado Infantes 2019',df_2019.groupby('Sexo')['P7480S5A1'].mean())"
   ]
  },
  {
   "cell_type": "code",
   "execution_count": 10,
   "id": "conceptual-branch",
   "metadata": {},
   "outputs": [
    {
     "name": "stdout",
     "output_type": "stream",
     "text": [
      "Sexo\n",
      "Hombre     5.860752\n",
      "Mujer     18.684214\n",
      "Name: P7480S3A1, dtype: float64\n",
      "Cuidado Infantes 2020 Sexo\n",
      "Hombre    1.411854\n",
      "Mujer     5.968145\n",
      "Name: P7480S5A1, dtype: float64\n"
     ]
    }
   ],
   "source": [
    "#Post Pandemia\n",
    "print(df_2020.groupby('Sexo')['P7480S3A1'].mean())\n",
    "print('Cuidado Infantes 2020',df_2020.groupby('Sexo')['P7480S5A1'].mean())"
   ]
  },
  {
   "cell_type": "code",
   "execution_count": 11,
   "id": "coated-vatican",
   "metadata": {},
   "outputs": [
    {
     "data": {
      "text/plain": [
       "<seaborn.axisgrid.FacetGrid at 0x1e07fa54190>"
      ]
     },
     "execution_count": 11,
     "metadata": {},
     "output_type": "execute_result"
    },
    {
     "data": {
      "image/png": "[encoded data removed]",
      "text/plain": [
       "<Figure size 473.625x360 with 1 Axes>"
      ]
     },
     "metadata": {
      "needs_background": "light"
     },
     "output_type": "display_data"
    }
   ],
   "source": [
    "# Cuidado Infantes \n",
    "sns.catplot(x=\"Sexo\", y=\"P7480S5A1\", hue=\"GrupoEta\", kind=\"bar\", data=df_2019)"
   ]
  },
  {
   "cell_type": "code",
   "execution_count": 12,
   "id": "initial-burlington",
   "metadata": {},
   "outputs": [
    {
     "data": {
      "text/plain": [
       "<seaborn.axisgrid.FacetGrid at 0x1e080f51a00>"
      ]
     },
     "execution_count": 12,
     "metadata": {},
     "output_type": "execute_result"
    },
    {
     "data": {
      "image/png": "[encoded data removed]",
      "text/plain": [
       "<Figure size 360x360 with 1 Axes>"
      ]
     },
     "metadata": {
      "needs_background": "light"
     },
     "output_type": "display_data"
    }
   ],
   "source": [
    "sns.catplot(x=\"Sexo\", y=\"P7480S3A1\", hue=\"Sexo\", kind=\"bar\", data=df_2019)"
   ]
  },
  {
   "cell_type": "code",
   "execution_count": 13,
   "id": "latin-cornell",
   "metadata": {},
   "outputs": [
    {
     "data": {
      "text/plain": [
       "<seaborn.axisgrid.FacetGrid at 0x1e080fbf3a0>"
      ]
     },
     "execution_count": 13,
     "metadata": {},
     "output_type": "execute_result"
    },
    {
     "data": {
      "image/png": "[encoded data removed]",
      "text/plain": [
       "<Figure size 473.625x360 with 1 Axes>"
      ]
     },
     "metadata": {
      "needs_background": "light"
     },
     "output_type": "display_data"
    }
   ],
   "source": [
    "sns.catplot(x=\"Sexo\", y=\"P7480S3A1\", hue=\"GrupoEta\", kind=\"bar\", data=df_2020)"
   ]
  },
  {
   "cell_type": "code",
   "execution_count": 14,
   "id": "medical-patrol",
   "metadata": {},
   "outputs": [
    {
     "data": {
      "text/plain": [
       "<AxesSubplot:xlabel='Sexo', ylabel='P7480S3A1'>"
      ]
     },
     "execution_count": 14,
     "metadata": {},
     "output_type": "execute_result"
    },
    {
     "data": {
      "image/png": "[encoded data removed]",
      "text/plain": [
       "<Figure size 432x288 with 1 Axes>"
      ]
     },
     "metadata": {
      "needs_background": "light"
     },
     "output_type": "display_data"
    }
   ],
   "source": [
    "sns.violinplot(x=df_2019.Sexo, y=df_2019.P7480S3A1)"
   ]
  },
  {
   "cell_type": "code",
   "execution_count": 15,
   "id": "aware-controversy",
   "metadata": {},
   "outputs": [
    {
     "data": {
      "text/plain": [
       "<AxesSubplot:xlabel='Sexo', ylabel='P7480S3A1'>"
      ]
     },
     "execution_count": 15,
     "metadata": {},
     "output_type": "execute_result"
    },
    {
     "data": {
      "image/png": "[encoded data removed]",
      "text/plain": [
       "<Figure size 432x288 with 1 Axes>"
      ]
     },
     "metadata": {
      "needs_background": "light"
     },
     "output_type": "display_data"
    }
   ],
   "source": [
    "sns.violinplot(x=df_2020.Sexo, y=df_2020.P7480S3A1)"
   ]
  }
 ],
 "metadata": {
  "kernelspec": {
   "display_name": "Python 3",
   "language": "python",
   "name": "python3"
  },
  "language_info": {
   "codemirror_mode": {
    "name": "ipython",
    "version": 3
   },
   "file_extension": ".py",
   "mimetype": "text/x-python",
   "name": "python",
   "nbconvert_exporter": "python",
   "pygments_lexer": "ipython3",
   "version": "3.8.5"
  }
 },
 "nbformat": 4,
 "nbformat_minor": 5
}
